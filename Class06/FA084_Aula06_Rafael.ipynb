{
  "nbformat": 4,
  "nbformat_minor": 0,
  "metadata": {
    "colab": {
      "name": "FA084_Aula06_RegressãoLogistica_vALUNO.ipynb",
      "provenance": [],
      "collapsed_sections": []
    },
    "kernelspec": {
      "name": "python3",
      "display_name": "Python 3"
    }
  },
  "cells": [
    {
      "cell_type": "markdown",
      "metadata": {
        "id": "dq6-fLvQqVIi",
        "colab_type": "text"
      },
      "source": [
        "#  Importar pacotes\n",
        "## pandas, numpy, matplotlib.pyplot, seaborn\n",
        "## sklearn: LogisticRegression, train_test_split, confusion_matrix"
      ]
    },
    {
      "cell_type": "code",
      "metadata": {
        "id": "REz5u5RI4DY0",
        "colab_type": "code",
        "colab": {}
      },
      "source": [
        "import pandas as pd\n",
        "import numpy as np\n",
        "import matplotlib.pyplot as plt\n",
        "import seaborn as sns\n",
        "from sklearn.model_selection import train_test_split\n",
        "from sklearn.linear_model import LogisticRegression\n",
        "from sklearn.metrics import confusion_matrix"
      ],
      "execution_count": 0,
      "outputs": []
    },
    {
      "cell_type": "code",
      "metadata": {
        "id": "hdyy2BHqNfxK",
        "colab_type": "code",
        "colab": {}
      },
      "source": [
        "# x e y gerados manualmente\n",
        "\n",
        "x = np.array([100,120,150,170,200,200,202,203,205,210,215,250,270,300,305,310])\n",
        "\n",
        "# Gerando y com valores binários (0/1)\n",
        "y = np.array([1,1,1,1,1,0,1,0,1,0,1,0,0,0,0,0])"
      ],
      "execution_count": 0,
      "outputs": []
    },
    {
      "cell_type": "code",
      "metadata": {
        "id": "HoAf7ZQxPjez",
        "colab_type": "code",
        "colab": {
          "base_uri": "https://localhost:8080/",
          "height": 265
        },
        "outputId": "38192bd6-185c-4f67-b487-c8e60b618120"
      },
      "source": [
        "# gráfico (scatter) dos pontos\n",
        "plt.scatter(x,y);"
      ],
      "execution_count": 5,
      "outputs": [
        {
          "output_type": "display_data",
          "data": {
            "image/png": "[encoded data removed]",
            "text/plain": [
              "<Figure size 432x288 with 1 Axes>"
            ]
          },
          "metadata": {
            "tags": [],
            "needs_background": "light"
          }
        }
      ]
    },
    {
      "cell_type": "code",
      "metadata": {
        "id": "KvLA9daqPpzO",
        "colab_type": "code",
        "colab": {}
      },
      "source": [
        "# Criar conjuntos de treino e teste (test_size=0.4, random_state=2020)\n",
        "x_train, x_test, y_train, y_test = train_test_split(x, y, test_size=0.4, random_state=2020)"
      ],
      "execution_count": 0,
      "outputs": []
    },
    {
      "cell_type": "code",
      "metadata": {
        "id": "SHdWBg_CQLZS",
        "colab_type": "code",
        "colab": {}
      },
      "source": [
        "# Definir técnica/modelo\n",
        "lr=LogisticRegression()"
      ],
      "execution_count": 0,
      "outputs": []
    },
    {
      "cell_type": "code",
      "metadata": {
        "id": "-YDTzlwwQVQU",
        "colab_type": "code",
        "colab": {
          "base_uri": "https://localhost:8080/",
          "height": 102
        },
        "outputId": "992eab36-3985-4cfb-d713-911a4b6bd563"
      },
      "source": [
        "# Ajustar os pontos do conjunto de treino utilizando a técnica anteriormente definida\n",
        "x_train = x_train.reshape(-1,1)\n",
        "x_test = x_test.reshape(-1,1)\n",
        "lr.fit(x_train,y_train)"
      ],
      "execution_count": 9,
      "outputs": [
        {
          "output_type": "execute_result",
          "data": {
            "text/plain": [
              "LogisticRegression(C=1.0, class_weight=None, dual=False, fit_intercept=True,\n",
              "                   intercept_scaling=1, l1_ratio=None, max_iter=100,\n",
              "                   multi_class='auto', n_jobs=None, penalty='l2',\n",
              "                   random_state=None, solver='lbfgs', tol=0.0001, verbose=0,\n",
              "                   warm_start=False)"
            ]
          },
          "metadata": {
            "tags": []
          },
          "execution_count": 9
        }
      ]
    },
    {
      "cell_type": "code",
      "metadata": {
        "id": "sJOG8fQGQzAy",
        "colab_type": "code",
        "colab": {}
      },
      "source": [
        "# Fazer predição no conjunto de teste, utilizando o modelo lr anteriormente ajudstado\n",
        "y_pred=lr.predict(x_test)"
      ],
      "execution_count": 0,
      "outputs": []
    },
    {
      "cell_type": "code",
      "metadata": {
        "id": "Ik_VKCqaRBee",
        "colab_type": "code",
        "colab": {
          "base_uri": "https://localhost:8080/",
          "height": 51
        },
        "outputId": "9151534d-41be-40b5-c7ee-32980a5d79fa"
      },
      "source": [
        "# Verificar Matriz de Confusão\n",
        "confusion_matrix(y_test, y_pred)"
      ],
      "execution_count": 11,
      "outputs": [
        {
          "output_type": "execute_result",
          "data": {
            "text/plain": [
              "array([[3, 0],\n",
              "       [1, 3]])"
            ]
          },
          "metadata": {
            "tags": []
          },
          "execution_count": 11
        }
      ]
    },
    {
      "cell_type": "code",
      "metadata": {
        "id": "Em_KpJZCXttw",
        "colab_type": "code",
        "colab": {}
      },
      "source": [
        "# ATENÇÃO!!!\n",
        "# Predição está nas linhas ou nas colunas?"
      ],
      "execution_count": 0,
      "outputs": []
    },
    {
      "cell_type": "code",
      "metadata": {
        "id": "r4sWiBTdRNWu",
        "colab_type": "code",
        "colab": {
          "base_uri": "https://localhost:8080/",
          "height": 51
        },
        "outputId": "cb8034ca-3571-4a00-bfbc-cb2e791eca8f"
      },
      "source": [
        "print(\"y_test\",y_test)\n",
        "print(\"y_pred\",y_pred)"
      ],
      "execution_count": 12,
      "outputs": [
        {
          "output_type": "stream",
          "text": [
            "y_test [1 1 1 1 0 0 0]\n",
            "y_pred [1 0 1 1 0 0 0]\n"
          ],
          "name": "stdout"
        }
      ]
    },
    {
      "cell_type": "code",
      "metadata": {
        "id": "5w_Qwc9uXbNu",
        "colab_type": "code",
        "colab": {}
      },
      "source": [
        "# Ainda falta explicitar na matriz qual linha é '0' e qual linha é '1'. Idem para 'coluna'"
      ],
      "execution_count": 0,
      "outputs": []
    },
    {
      "cell_type": "code",
      "metadata": {
        "id": "EhZ-mvy1RRbf",
        "colab_type": "code",
        "colab": {
          "base_uri": "https://localhost:8080/",
          "height": 111
        },
        "outputId": "bf65b25d-cf50-4496-da03-9b60312d63e7"
      },
      "source": [
        "# Para rotular, vamos usar um DataFrame com os índices (linhas) e colunas\n",
        "colunas = np.unique(y_test)\n",
        "a = confusion_matrix(y_test, y_pred, labels=colunas)\n",
        "pd.DataFrame(a, index=colunas, columns=colunas)"
      ],
      "execution_count": 16,
      "outputs": [
        {
          "output_type": "execute_result",
          "data": {
            "text/html": [
              "<div>\n",
              "<style scoped>\n",
              "    .dataframe tbody tr th:only-of-type {\n",
              "        vertical-align: middle;\n",
              "    }\n",
              "\n",
              "    .dataframe tbody tr th {\n",
              "        vertical-align: top;\n",
              "    }\n",
              "\n",
              "    .dataframe thead th {\n",
              "        text-align: right;\n",
              "    }\n",
              "</style>\n",
              "<table border=\"1\" class=\"dataframe\">\n",
              "  <thead>\n",
              "    <tr style=\"text-align: right;\">\n",
              "      <th></th>\n",
              "      <th>0</th>\n",
              "      <th>1</th>\n",
              "    </tr>\n",
              "  </thead>\n",
              "  <tbody>\n",
              "    <tr>\n",
              "      <th>0</th>\n",
              "      <td>3</td>\n",
              "      <td>0</td>\n",
              "    </tr>\n",
              "    <tr>\n",
              "      <th>1</th>\n",
              "      <td>1</td>\n",
              "      <td>3</td>\n",
              "    </tr>\n",
              "  </tbody>\n",
              "</table>\n",
              "</div>"
            ],
            "text/plain": [
              "   0  1\n",
              "0  3  0\n",
              "1  1  3"
            ]
          },
          "metadata": {
            "tags": []
          },
          "execution_count": 16
        }
      ]
    },
    {
      "cell_type": "code",
      "metadata": {
        "id": "Rgqac4ITaJ-L",
        "colab_type": "code",
        "colab": {
          "base_uri": "https://localhost:8080/",
          "height": 173
        },
        "outputId": "d174d1ab-6da2-4766-e655-ab47f177e67c"
      },
      "source": [
        "# Outro jeito de gerar uma Matriz de Confusão com rótulos, utilizando 'crosstab' (Pandas)\n",
        "pd.crosstab(y_test, y_pred, rownames=['Obs'], colnames=['Pred'], margins=True)"
      ],
      "execution_count": 17,
      "outputs": [
        {
          "output_type": "execute_result",
          "data": {
            "text/html": [
              "<div>\n",
              "<style scoped>\n",
              "    .dataframe tbody tr th:only-of-type {\n",
              "        vertical-align: middle;\n",
              "    }\n",
              "\n",
              "    .dataframe tbody tr th {\n",
              "        vertical-align: top;\n",
              "    }\n",
              "\n",
              "    .dataframe thead th {\n",
              "        text-align: right;\n",
              "    }\n",
              "</style>\n",
              "<table border=\"1\" class=\"dataframe\">\n",
              "  <thead>\n",
              "    <tr style=\"text-align: right;\">\n",
              "      <th>Pred</th>\n",
              "      <th>0</th>\n",
              "      <th>1</th>\n",
              "      <th>All</th>\n",
              "    </tr>\n",
              "    <tr>\n",
              "      <th>Obs</th>\n",
              "      <th></th>\n",
              "      <th></th>\n",
              "      <th></th>\n",
              "    </tr>\n",
              "  </thead>\n",
              "  <tbody>\n",
              "    <tr>\n",
              "      <th>0</th>\n",
              "      <td>3</td>\n",
              "      <td>0</td>\n",
              "      <td>3</td>\n",
              "    </tr>\n",
              "    <tr>\n",
              "      <th>1</th>\n",
              "      <td>1</td>\n",
              "      <td>3</td>\n",
              "      <td>4</td>\n",
              "    </tr>\n",
              "    <tr>\n",
              "      <th>All</th>\n",
              "      <td>4</td>\n",
              "      <td>3</td>\n",
              "      <td>7</td>\n",
              "    </tr>\n",
              "  </tbody>\n",
              "</table>\n",
              "</div>"
            ],
            "text/plain": [
              "Pred  0  1  All\n",
              "Obs            \n",
              "0     3  0    3\n",
              "1     1  3    4\n",
              "All   4  3    7"
            ]
          },
          "metadata": {
            "tags": []
          },
          "execution_count": 17
        }
      ]
    },
    {
      "cell_type": "code",
      "metadata": {
        "id": "o-6UxoDreer8",
        "colab_type": "code",
        "colab": {
          "base_uri": "https://localhost:8080/",
          "height": 34
        },
        "outputId": "208afab5-442f-4f08-9eec-2fbf04ad7187"
      },
      "source": [
        "# Verificar a acurácia do modelo (score)\n",
        "lr.score(x_test, y_test)"
      ],
      "execution_count": 20,
      "outputs": [
        {
          "output_type": "execute_result",
          "data": {
            "text/plain": [
              "0.8571428571428571"
            ]
          },
          "metadata": {
            "tags": []
          },
          "execution_count": 20
        }
      ]
    },
    {
      "cell_type": "code",
      "metadata": {
        "id": "c0A41IutemDN",
        "colab_type": "code",
        "colab": {
          "base_uri": "https://localhost:8080/",
          "height": 136
        },
        "outputId": "546039b0-e266-4b03-c177-4459f064c5de"
      },
      "source": [
        "# Verificar a probabilidade associada a cada registro\n",
        "lr.predict_proba(x_test)"
      ],
      "execution_count": 21,
      "outputs": [
        {
          "output_type": "execute_result",
          "data": {
            "text/plain": [
              "array([[4.35660369e-01, 5.64339631e-01],\n",
              "       [7.46402516e-01, 2.53597484e-01],\n",
              "       [6.13052570e-04, 9.99386947e-01],\n",
              "       [8.83791909e-03, 9.91162081e-01],\n",
              "       [6.53263034e-01, 3.46736966e-01],\n",
              "       [9.97494238e-01, 2.50576224e-03],\n",
              "       [9.99929193e-01, 7.08071285e-05]])"
            ]
          },
          "metadata": {
            "tags": []
          },
          "execution_count": 21
        }
      ]
    },
    {
      "cell_type": "code",
      "metadata": {
        "id": "KwXcJDmZ1F1m",
        "colab_type": "code",
        "colab": {
          "base_uri": "https://localhost:8080/",
          "height": 51
        },
        "outputId": "d5bc7b91-a302-409a-fdc0-785720c33646"
      },
      "source": [
        "print(\"y_test\",y_test)\n",
        "print(\"y_pred\",y_pred)"
      ],
      "execution_count": 22,
      "outputs": [
        {
          "output_type": "stream",
          "text": [
            "y_test [1 1 1 1 0 0 0]\n",
            "y_pred [1 0 1 1 0 0 0]\n"
          ],
          "name": "stdout"
        }
      ]
    },
    {
      "cell_type": "code",
      "metadata": {
        "id": "EQF8Ze4z1-xn",
        "colab_type": "code",
        "colab": {
          "base_uri": "https://localhost:8080/",
          "height": 283
        },
        "outputId": "272cd078-df71-465c-a199-47e1bfdf206b"
      },
      "source": [
        "from sklearn.metrics import confusion_matrix, plot_confusion_matrix\n",
        "plot_confusion_matrix(lr, x_test, y_test, cmap='Blues', values_format='.3g');"
      ],
      "execution_count": 24,
      "outputs": [
        {
          "output_type": "display_data",
          "data": {
            "image/png": "[encoded data removed]",
            "text/plain": [
              "<Figure size 432x288 with 2 Axes>"
            ]
          },
          "metadata": {
            "tags": [],
            "needs_background": "light"
          }
        }
      ]
    }
  ]
}