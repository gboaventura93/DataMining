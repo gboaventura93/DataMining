{
  "nbformat": 4,
  "nbformat_minor": 0,
  "metadata": {
    "colab": {
      "name": "FA084_Aula06_ÁrvoreDecisão_vALUNO.ipynb",
      "provenance": [],
      "collapsed_sections": [
        "x2uPVDUS9qgw",
        "FH-81Yqf9uIy",
        "rg6jl0dM_6BQ",
        "RvFVa6hHAvus"
      ],
      "toc_visible": true
    },
    "kernelspec": {
      "name": "python3",
      "display_name": "Python 3"
    }
  },
  "cells": [
    {
      "cell_type": "markdown",
      "metadata": {
        "id": "dq6-fLvQqVIi",
        "colab_type": "text"
      },
      "source": [
        "# Importar pacotes\n",
        "## pandas, numpy, matplotlib.pyplot, seaborn\n",
        "## sklearn: train_test_split, confusion_matrix"
      ]
    },
    {
      "cell_type": "code",
      "metadata": {
        "id": "LYyhsQcYsS5I",
        "colab_type": "code",
        "colab": {}
      },
      "source": [
        "import pandas as pd\n",
        "import numpy as np\n",
        "import matplotlib.pyplot as plt\n",
        "import seaborn as sns\n",
        "from sklearn.model_selection import train_test_split\n",
        "from sklearn.metrics import confusion_matrix\n",
        "from sklearn.tree import DecisionTreeClassifier\n",
        "from sklearn import tree\n",
        "from sklearn.model_selection import cross_val_score \n",
        "from sklearn import metrics"
      ],
      "execution_count": 0,
      "outputs": []
    },
    {
      "cell_type": "markdown",
      "metadata": {
        "id": "h1svP2YWxPAd",
        "colab_type": "text"
      },
      "source": [
        "# Aplicar no *dataset* Iris"
      ]
    },
    {
      "cell_type": "code",
      "metadata": {
        "id": "jEgpZg5txiSv",
        "colab_type": "code",
        "colab": {}
      },
      "source": [
        "df = pd.read_csv('iris.csv')"
      ],
      "execution_count": 0,
      "outputs": []
    },
    {
      "cell_type": "code",
      "metadata": {
        "id": "bwne-gIIx4FV",
        "colab_type": "code",
        "outputId": "1cd4d762-40ca-4e7d-bc2d-4471e3cf6977",
        "colab": {
          "base_uri": "https://localhost:8080/",
          "height": 204
        }
      },
      "source": [
        "df.head()"
      ],
      "execution_count": 46,
      "outputs": [
        {
          "output_type": "execute_result",
          "data": {
            "text/html": [
              "<div>\n",
              "<style scoped>\n",
              "    .dataframe tbody tr th:only-of-type {\n",
              "        vertical-align: middle;\n",
              "    }\n",
              "\n",
              "    .dataframe tbody tr th {\n",
              "        vertical-align: top;\n",
              "    }\n",
              "\n",
              "    .dataframe thead th {\n",
              "        text-align: right;\n",
              "    }\n",
              "</style>\n",
              "<table border=\"1\" class=\"dataframe\">\n",
              "  <thead>\n",
              "    <tr style=\"text-align: right;\">\n",
              "      <th></th>\n",
              "      <th>Id</th>\n",
              "      <th>sepal.length</th>\n",
              "      <th>sepal.width</th>\n",
              "      <th>petal.length</th>\n",
              "      <th>petal.width</th>\n",
              "      <th>species</th>\n",
              "    </tr>\n",
              "  </thead>\n",
              "  <tbody>\n",
              "    <tr>\n",
              "      <th>0</th>\n",
              "      <td>1</td>\n",
              "      <td>5.1</td>\n",
              "      <td>3.5</td>\n",
              "      <td>1.4</td>\n",
              "      <td>0.2</td>\n",
              "      <td>setosa</td>\n",
              "    </tr>\n",
              "    <tr>\n",
              "      <th>1</th>\n",
              "      <td>2</td>\n",
              "      <td>4.9</td>\n",
              "      <td>3.0</td>\n",
              "      <td>1.4</td>\n",
              "      <td>0.2</td>\n",
              "      <td>setosa</td>\n",
              "    </tr>\n",
              "    <tr>\n",
              "      <th>2</th>\n",
              "      <td>3</td>\n",
              "      <td>4.7</td>\n",
              "      <td>3.2</td>\n",
              "      <td>1.3</td>\n",
              "      <td>0.2</td>\n",
              "      <td>setosa</td>\n",
              "    </tr>\n",
              "    <tr>\n",
              "      <th>3</th>\n",
              "      <td>4</td>\n",
              "      <td>4.6</td>\n",
              "      <td>3.1</td>\n",
              "      <td>1.5</td>\n",
              "      <td>0.2</td>\n",
              "      <td>setosa</td>\n",
              "    </tr>\n",
              "    <tr>\n",
              "      <th>4</th>\n",
              "      <td>5</td>\n",
              "      <td>5.0</td>\n",
              "      <td>3.6</td>\n",
              "      <td>1.4</td>\n",
              "      <td>0.2</td>\n",
              "      <td>setosa</td>\n",
              "    </tr>\n",
              "  </tbody>\n",
              "</table>\n",
              "</div>"
            ],
            "text/plain": [
              "   Id  sepal.length  sepal.width  petal.length  petal.width species\n",
              "0   1           5.1          3.5           1.4          0.2  setosa\n",
              "1   2           4.9          3.0           1.4          0.2  setosa\n",
              "2   3           4.7          3.2           1.3          0.2  setosa\n",
              "3   4           4.6          3.1           1.5          0.2  setosa\n",
              "4   5           5.0          3.6           1.4          0.2  setosa"
            ]
          },
          "metadata": {
            "tags": []
          },
          "execution_count": 46
        }
      ]
    },
    {
      "cell_type": "code",
      "metadata": {
        "id": "MRYQxzCLx9XX",
        "colab_type": "code",
        "colab": {}
      },
      "source": [
        "# Criar atributo meta\n",
        "y = df.species\n",
        "\n",
        "# Eliminar a coluna 'Id' e criar atributos preditores\n",
        "X = df.drop(['Id', 'species'], axis=1)"
      ],
      "execution_count": 0,
      "outputs": []
    },
    {
      "cell_type": "code",
      "metadata": {
        "id": "NlnRKFdeyF8q",
        "colab_type": "code",
        "colab": {}
      },
      "source": [
        "# Inicialmente, vamos criar uma Árvore de Decisão utilizando TODO O CONJUNTO DE DADOS"
      ],
      "execution_count": 0,
      "outputs": []
    },
    {
      "cell_type": "code",
      "metadata": {
        "id": "npQ6mhGlzEjF",
        "colab_type": "code",
        "colab": {}
      },
      "source": [
        "# Definir o modelo\n",
        "arvore = DecisionTreeClassifier(criterion='entropy',\n",
        "                                random_state=2020)\n",
        "\n",
        "# Ajustar o modelo aos pontos do conjunto de dados\n",
        "arvore.fit(X,y)"
      ],
      "execution_count": 0,
      "outputs": []
    },
    {
      "cell_type": "code",
      "metadata": {
        "id": "XRG59rSa4jSi",
        "colab_type": "code",
        "colab": {}
      },
      "source": [
        "# Desenhando a árvore \n",
        "tree.plot_tree(arvore);"
      ],
      "execution_count": 0,
      "outputs": []
    },
    {
      "cell_type": "code",
      "metadata": {
        "id": "M3Oxa2Gp0OYm",
        "colab_type": "code",
        "colab": {}
      },
      "source": [
        "# Desenhando a árvore um pouco maior (figsize=(12,10))\n",
        "plt.figure(figsize=(12,10))\n",
        "tree.plot_tree(arvore);"
      ],
      "execution_count": 0,
      "outputs": []
    },
    {
      "cell_type": "code",
      "metadata": {
        "id": "Nw8rMlEz42jM",
        "colab_type": "code",
        "colab": {}
      },
      "source": [
        "# Dando nomes às classes\n",
        "plt.figure(figsize=(12,10))\n",
        "nome_classes = ['setosa', 'versicolor', 'virginica']\n",
        "tree.plot_tree(arvore,\n",
        "               class_names=nome_classes);"
      ],
      "execution_count": 0,
      "outputs": []
    },
    {
      "cell_type": "code",
      "metadata": {
        "id": "mA43E_jo5Okc",
        "colab_type": "code",
        "colab": {}
      },
      "source": [
        "# Dando nome e cor às classes\n",
        "plt.figure(figsize=(12,10))\n",
        "nome_classes = ['setosa', 'versicolor', 'virginica']\n",
        "tree.plot_tree(arvore,\n",
        "               class_names=nome_classes,\n",
        "               filled=True);"
      ],
      "execution_count": 0,
      "outputs": []
    },
    {
      "cell_type": "code",
      "metadata": {
        "id": "qNcPy-BL624t",
        "colab_type": "code",
        "colab": {}
      },
      "source": [
        "# Dando nome e cor às classes E nome aos atributos\n",
        "plt.figure(figsize=(12,10))\n",
        "nome_classes = ['setosa', 'versicolor', 'virginica']\n",
        "nome_atributos=['slen', 'swidth', 'plen', 'pwidth']\n",
        "tree.plot_tree(arvore,\n",
        "               class_names=nome_classes,\n",
        "               feature_names=nome_atributos,\n",
        "               filled=True);"
      ],
      "execution_count": 0,
      "outputs": []
    },
    {
      "cell_type": "code",
      "metadata": {
        "id": "upSVhe2Z8KwI",
        "colab_type": "code",
        "colab": {}
      },
      "source": [
        "# Aumentando o tamanho da figura e da fonte\n",
        "plt.figure(figsize=(15,10))\n",
        "nome_classes = ['setosa', 'versicolor', 'virginica']\n",
        "nome_atributos=['slen', 'swidth', 'plen', 'pwidth']\n",
        "tree.plot_tree(arvore,\n",
        "               class_names=nome_classes,\n",
        "               feature_names=nome_atributos,\n",
        "               fontsize=12,\n",
        "               filled=True);"
      ],
      "execution_count": 0,
      "outputs": []
    },
    {
      "cell_type": "code",
      "metadata": {
        "id": "HBZ4AGKb59Hm",
        "colab_type": "code",
        "colab": {}
      },
      "source": [
        "# Salvando a figura (.png)\n",
        "fig, axes = plt.subplot(nrows=1, ncols=1, figsize=(15,10))\n",
        "plt.figure(figsize=(15,10))\n",
        "nome_classes = ['setosa', 'versicolor', 'virginica']\n",
        "nome_atributos=['slen', 'swidth', 'plen', 'pwidth']\n",
        "tree.plot_tree(arvore,\n",
        "               class_names=nome_classes,\n",
        "               feature_names=nome_atributos,\n",
        "               fontsize=12,\n",
        "               filled=True);\n",
        "fig.savefig('FA084_Iris_Tree.png')"
      ],
      "execution_count": 0,
      "outputs": []
    },
    {
      "cell_type": "code",
      "metadata": {
        "id": "XDHaRwA46Ier",
        "colab_type": "code",
        "colab": {}
      },
      "source": [
        "# Repetir todo o processo, alterando alguns parâmetros:\n",
        "#    max_depth\n",
        "#    min_samples_split\n",
        "#    min_samples_leaf"
      ],
      "execution_count": 0,
      "outputs": []
    },
    {
      "cell_type": "markdown",
      "metadata": {
        "id": "x2uPVDUS9qgw",
        "colab_type": "text"
      },
      "source": [
        "# Atividade Prática (ÁRVORE DE DECISÃO)"
      ]
    },
    {
      "cell_type": "markdown",
      "metadata": {
        "id": "FH-81Yqf9uIy",
        "colab_type": "text"
      },
      "source": [
        "## 1. Criar conjuntos de Treino e Teste (70/30) e random_state=2020  \n",
        "## 2. Construir **ÁRVORE DE DECISÃO** (Usar Cross-Validation, com 10 folds) no conjunto de treino variando:  \n",
        "> - Número mínimo de registros para 'split' (considerar 5, 10, 15 e 20)  \n",
        "> - Número mínimo de registros na 'folha'   (considerar 2, 4, 6, 8 e 10)  \n",
        "> - Profundidade máxima da árvore           (considerar 2, 3, 4 e 5)  \n",
        "## 3. Selecionar os parâmetros ótimos (min_samples_split, min_samples_leaf, max_depth)  \n",
        "## 4. Avaliar o modelo com os parâmetros ótimos no conjunto de teste  \n",
        "> - Apresentar a Figura da Árvore\n",
        "> - Apresentar a Acurácia\n",
        "> - Apresentar a Matriz de Confusão\n"
      ]
    },
    {
      "cell_type": "code",
      "metadata": {
        "id": "oV3-O2v9_vRt",
        "colab_type": "code",
        "colab": {}
      },
      "source": [
        "# Criar atributo meta\n",
        "y = df.species\n",
        "\n",
        "# Eliminar a coluna 'Id' e criar atributos preditores\n",
        "X = df.drop(['Id', 'species'], axis=1)"
      ],
      "execution_count": 0,
      "outputs": []
    },
    {
      "cell_type": "code",
      "metadata": {
        "id": "QAPUscI2_8yY",
        "colab_type": "code",
        "outputId": "79cc7e9f-eebc-4ea0-9759-3b516109503f",
        "colab": {
          "base_uri": "https://localhost:8080/",
          "height": 34
        }
      },
      "source": [
        "# Criar conjuntos de treino e teste com Scikit-learn. Random_state = 2020\n",
        "X_train, X_test, y_train, y_test = train_test_split(X,y, test_size=0.3, random_state = 2020)\n",
        "# Verificar dimensões de X, X_train e X_test\n",
        "print(X.shape, X_train.shape, X_test.shape)"
      ],
      "execution_count": 50,
      "outputs": [
        {
          "output_type": "stream",
          "text": [
            "(150, 4) (105, 4) (45, 4)\n"
          ],
          "name": "stdout"
        }
      ]
    },
    {
      "cell_type": "code",
      "metadata": {
        "id": "vC4iB2CVAUjx",
        "colab_type": "code",
        "colab": {}
      },
      "source": [
        "# Criar listas com valores de 'split', 'leaf', 'depth'\n",
        "split = list(range(5,25,5))\n",
        "leaf = list(range(2,12,2))\n",
        "depth = list(range(2,6,1))"
      ],
      "execution_count": 0,
      "outputs": []
    },
    {
      "cell_type": "code",
      "metadata": {
        "id": "v9XB5j9mA6jr",
        "colab_type": "code",
        "colab": {}
      },
      "source": [
        "# Criar uma lista vazia com os 'scores' para cada iteração da Validação Cruzada\n",
        "# A Validação Cruzada será feita com 10 subconjuntos (10-fold Cross Validation)\n",
        "split_scores = [ ]\n",
        "leaf_scores = [ ]\n",
        "depth_scores = [ ]"
      ],
      "execution_count": 0,
      "outputs": []
    },
    {
      "cell_type": "code",
      "metadata": {
        "id": "tqmUIae0BFES",
        "colab_type": "code",
        "colab": {}
      },
      "source": [
        "# Realizar a Validação Cruzada com 10 subconjuntos (ou 10 pastas)\n",
        "\n",
        "for i in split:\n",
        "  dtc = DecisionTreeClassifier(random_state=0,\n",
        "                               min_samples_split=i)\n",
        "  scores = cross_val_score(dtc,X_train,y_train,\n",
        "                           cv=10,\n",
        "                           scoring='accuracy')\n",
        "  split_scores.append(scores.mean())"
      ],
      "execution_count": 0,
      "outputs": []
    },
    {
      "cell_type": "code",
      "metadata": {
        "id": "Ep5Rfmj2BvGl",
        "colab_type": "code",
        "outputId": "8e7b4757-051d-4bd1-a861-2a8fa3e63149",
        "colab": {
          "base_uri": "https://localhost:8080/",
          "height": 34
        }
      },
      "source": [
        "split_otimo = split[split_scores.index(max(split_scores))]\n",
        "split_otimo"
      ],
      "execution_count": 0,
      "outputs": [
        {
          "output_type": "execute_result",
          "data": {
            "text/plain": [
              "5"
            ]
          },
          "metadata": {
            "tags": []
          },
          "execution_count": 39
        }
      ]
    },
    {
      "cell_type": "code",
      "metadata": {
        "id": "bL9wcD9KFdk5",
        "colab_type": "code",
        "colab": {}
      },
      "source": [
        "# Realizar a Validação Cruzada com 10 subconjuntos (ou 10 pastas)\n",
        "\n",
        "for j in leaf:\n",
        "  dtc = DecisionTreeClassifier(min_samples_leaf=j)\n",
        "  scores = cross_val_score(dtc,X_train,y_train,\n",
        "                           cv=10,\n",
        "                           scoring='accuracy')\n",
        "  leaf_scores.append(scores.mean())"
      ],
      "execution_count": 0,
      "outputs": []
    },
    {
      "cell_type": "code",
      "metadata": {
        "id": "jjat-eIeFtka",
        "colab_type": "code",
        "outputId": "c0f3c3a0-b4f7-4b68-e14b-d0b11ffef874",
        "colab": {
          "base_uri": "https://localhost:8080/",
          "height": 34
        }
      },
      "source": [
        "leaf_otimo = leaf[leaf_scores.index(max(leaf_scores))]\n",
        "leaf_otimo"
      ],
      "execution_count": 0,
      "outputs": [
        {
          "output_type": "execute_result",
          "data": {
            "text/plain": [
              "2"
            ]
          },
          "metadata": {
            "tags": []
          },
          "execution_count": 31
        }
      ]
    },
    {
      "cell_type": "code",
      "metadata": {
        "id": "5x279HHZF7p2",
        "colab_type": "code",
        "colab": {}
      },
      "source": [
        "# Realizar a Validação Cruzada com 10 subconjuntos (ou 10 pastas)\n",
        "\n",
        "for k in depth:\n",
        "  dtc = DecisionTreeClassifier(max_depth=k)\n",
        "  scores = cross_val_score(dtc,X_train,y_train,\n",
        "                           cv=10,\n",
        "                           scoring='accuracy')\n",
        "  depth_scores.append(scores.mean())"
      ],
      "execution_count": 0,
      "outputs": []
    },
    {
      "cell_type": "code",
      "metadata": {
        "id": "jFx5WTM1F9zy",
        "colab_type": "code",
        "outputId": "ef2c8583-54d9-4ff2-d860-1800a1a00a52",
        "colab": {
          "base_uri": "https://localhost:8080/",
          "height": 34
        }
      },
      "source": [
        "depth_otimo = depth[depth_scores.index(max(depth_scores))]\n",
        "depth_otimo"
      ],
      "execution_count": 0,
      "outputs": [
        {
          "output_type": "execute_result",
          "data": {
            "text/plain": [
              "4"
            ]
          },
          "metadata": {
            "tags": []
          },
          "execution_count": 33
        }
      ]
    },
    {
      "cell_type": "code",
      "metadata": {
        "id": "X0Fw-aR5G03_",
        "colab_type": "code",
        "colab": {}
      },
      "source": [
        "for i in split:\n",
        "  for j in leaf:\n",
        "    for k in depth:\n",
        "      dtc = DecisionTreeClassifier(min_samples_split=i)\n",
        "      scores = cross_val_score(dtc,X_train,y_train,\n",
        "                              cv=10,\n",
        "                              scoring='accuracy')\n",
        "      split_scores.append(scores.mean())\n",
        "\n",
        "      dtc = DecisionTreeClassifier(min_samples_leaf=j)\n",
        "      scores = cross_val_score(dtc,X_train,y_train,\n",
        "                              cv=10,\n",
        "                              scoring='accuracy')\n",
        "      leaf_scores.append(scores.mean())\n",
        "      \n",
        "      dtc = DecisionTreeClassifier(max_depth=k)\n",
        "      scores = cross_val_score(dtc,X_train,y_train,\n",
        "                              cv=10,\n",
        "                              scoring='accuracy')\n",
        "      depth_scores.append(scores.mean())"
      ],
      "execution_count": 0,
      "outputs": []
    },
    {
      "cell_type": "code",
      "metadata": {
        "id": "KlnnVo1kHlGM",
        "colab_type": "code",
        "outputId": "7c4cd493-739a-454c-ede0-17e98ef8658e",
        "colab": {
          "base_uri": "https://localhost:8080/",
          "height": 34
        }
      },
      "source": [
        "split_otimo = split[split_scores.index(max(split_scores))]\n",
        "split_otimo"
      ],
      "execution_count": 0,
      "outputs": [
        {
          "output_type": "execute_result",
          "data": {
            "text/plain": [
              "5"
            ]
          },
          "metadata": {
            "tags": []
          },
          "execution_count": 47
        }
      ]
    },
    {
      "cell_type": "code",
      "metadata": {
        "id": "pjiPSf8rHnpv",
        "colab_type": "code",
        "outputId": "770b1ce7-7e07-4f4e-9d75-4d0f9a595b7e",
        "colab": {
          "base_uri": "https://localhost:8080/",
          "height": 34
        }
      },
      "source": [
        "leaf_otimo = leaf[leaf_scores.index(max(leaf_scores))]\n",
        "leaf_otimo"
      ],
      "execution_count": 0,
      "outputs": [
        {
          "output_type": "execute_result",
          "data": {
            "text/plain": [
              "2"
            ]
          },
          "metadata": {
            "tags": []
          },
          "execution_count": 45
        }
      ]
    },
    {
      "cell_type": "code",
      "metadata": {
        "id": "POH41kZPHofw",
        "colab_type": "code",
        "outputId": "44ac1da0-3431-40de-ba9d-bbf728ad7a71",
        "colab": {
          "base_uri": "https://localhost:8080/",
          "height": 34
        }
      },
      "source": [
        "depth_otimo = depth[depth_scores.index(max(depth_scores))]\n",
        "depth_otimo"
      ],
      "execution_count": 0,
      "outputs": [
        {
          "output_type": "execute_result",
          "data": {
            "text/plain": [
              "4"
            ]
          },
          "metadata": {
            "tags": []
          },
          "execution_count": 46
        }
      ]
    },
    {
      "cell_type": "code",
      "metadata": {
        "id": "ohzN-qpqJuLE",
        "colab_type": "code",
        "colab": {}
      },
      "source": [
        "for i in split:\n",
        "  for j in leaf:\n",
        "    for k in depth:\n",
        "      dtc = DecisionTreeClassifier(min_samples_split=i, min_samples_leaf=j, max_depth=k)\n",
        "      scores = cross_val_score(dtc,X_train,y_train,\n",
        "                              cv=10,\n",
        "                              scoring='accuracy')\n",
        "      split_scores.append(scores.mean())\n",
        "      leaf_scores.append(scores.mean())\n",
        "      depth_scores.append(scores.mean())"
      ],
      "execution_count": 0,
      "outputs": []
    },
    {
      "cell_type": "code",
      "metadata": {
        "id": "5_0V0oTeJ8ng",
        "colab_type": "code",
        "outputId": "0637e7f4-d770-4212-f4c8-99967158a6f7",
        "colab": {
          "base_uri": "https://localhost:8080/",
          "height": 68
        }
      },
      "source": [
        "split_otimo = split[split_scores.index(max(split_scores))]\n",
        "print(split_otimo)\n",
        "\n",
        "leaf_otimo = leaf[leaf_scores.index(max(leaf_scores))]\n",
        "print(leaf_otimo)\n",
        "\n",
        "depth_otimo = depth[depth_scores.index(max(depth_scores))]\n",
        "print(depth_otimo)"
      ],
      "execution_count": 54,
      "outputs": [
        {
          "output_type": "stream",
          "text": [
            "5\n",
            "2\n",
            "2\n"
          ],
          "name": "stdout"
        }
      ]
    },
    {
      "cell_type": "code",
      "metadata": {
        "id": "FA4nasaH2Wn8",
        "colab_type": "code",
        "outputId": "07b7cee8-021b-448d-dc6b-9d312ea2683b",
        "colab": {
          "base_uri": "https://localhost:8080/",
          "height": 119
        }
      },
      "source": [
        "# Definir o modelo\n",
        "arvore = DecisionTreeClassifier(criterion='entropy',\n",
        "                                max_depth=depth_otimo,\n",
        "                                min_samples_split=split_otimo,\n",
        "                                min_samples_leaf=leaf_otimo,\n",
        "                                random_state=2020)\n",
        "\n",
        "# Ajustar o modelo aos pontos do conjunto de dados\n",
        "arvore.fit(X,y)"
      ],
      "execution_count": 55,
      "outputs": [
        {
          "output_type": "execute_result",
          "data": {
            "text/plain": [
              "DecisionTreeClassifier(ccp_alpha=0.0, class_weight=None, criterion='entropy',\n",
              "                       max_depth=2, max_features=None, max_leaf_nodes=None,\n",
              "                       min_impurity_decrease=0.0, min_impurity_split=None,\n",
              "                       min_samples_leaf=2, min_samples_split=5,\n",
              "                       min_weight_fraction_leaf=0.0, presort='deprecated',\n",
              "                       random_state=2020, splitter='best')"
            ]
          },
          "metadata": {
            "tags": []
          },
          "execution_count": 55
        }
      ]
    },
    {
      "cell_type": "code",
      "metadata": {
        "id": "1LGXUhIG11zC",
        "colab_type": "code",
        "outputId": "a5afc8ab-8ac0-46fa-c789-f449cbc6c540",
        "colab": {
          "base_uri": "https://localhost:8080/",
          "height": 575
        }
      },
      "source": [
        "# Árvore de decisão\n",
        "plt.figure(figsize=(15,10))\n",
        "nome_classes = ['setosa', 'versicolor', 'virginica']\n",
        "nome_atributos=['slen', 'swidth', 'plen', 'pwidth']\n",
        "tree.plot_tree(arvore,\n",
        "               class_names=nome_classes,\n",
        "               feature_names=nome_atributos,\n",
        "               fontsize=12,\n",
        "               filled=True);\n",
        "plt.savefig('FA084_Iris_Tree.png')"
      ],
      "execution_count": 56,
      "outputs": [
        {
          "output_type": "display_data",
          "data": {
            "image/png": "[encoded data removed]",
            "text/plain": [
              "<Figure size 1080x720 with 1 Axes>"
            ]
          },
          "metadata": {
            "tags": [],
            "needs_background": "light"
          }
        }
      ]
    },
    {
      "cell_type": "code",
      "metadata": {
        "id": "PX1lUBET29xo",
        "colab_type": "code",
        "outputId": "131b1759-2449-4a96-b9a2-7adae5440ac6",
        "colab": {
          "base_uri": "https://localhost:8080/",
          "height": 34
        }
      },
      "source": [
        "# Verificar a acurácia do modelo (score)\n",
        "arvore_score=arvore.score(X_test, y_test)\n",
        "arvore_score"
      ],
      "execution_count": 57,
      "outputs": [
        {
          "output_type": "execute_result",
          "data": {
            "text/plain": [
              "0.9111111111111111"
            ]
          },
          "metadata": {
            "tags": []
          },
          "execution_count": 57
        }
      ]
    },
    {
      "cell_type": "code",
      "metadata": {
        "id": "RIdpeXkzOuvy",
        "colab_type": "code",
        "colab": {}
      },
      "source": [
        "y_pred = arvore.predict(X_test)"
      ],
      "execution_count": 0,
      "outputs": []
    },
    {
      "cell_type": "code",
      "metadata": {
        "id": "tn63ldegO7UV",
        "colab_type": "code",
        "colab": {
          "base_uri": "https://localhost:8080/",
          "height": 34
        },
        "outputId": "0f63f204-e3e4-430e-9669-8e033d924c3b"
      },
      "source": [
        "acc = metrics.accuracy_score(y_test,y_pred)\n",
        "print('Accuracy k=11: ', acc)"
      ],
      "execution_count": 61,
      "outputs": [
        {
          "output_type": "stream",
          "text": [
            "Accuracy k=11:  0.9111111111111111\n"
          ],
          "name": "stdout"
        }
      ]
    },
    {
      "cell_type": "code",
      "metadata": {
        "id": "a9Ru_jQ3PPd5",
        "colab_type": "code",
        "colab": {
          "base_uri": "https://localhost:8080/",
          "height": 68
        },
        "outputId": "a6f5cf0d-9a18-40c3-eaba-5eea023c01f1"
      },
      "source": [
        "MatConf = confusion_matrix(y_test, y_pred)\n",
        "MatConf"
      ],
      "execution_count": 62,
      "outputs": [
        {
          "output_type": "execute_result",
          "data": {
            "text/plain": [
              "array([[18,  0,  0],\n",
              "       [ 0, 12,  1],\n",
              "       [ 0,  3, 11]])"
            ]
          },
          "metadata": {
            "tags": []
          },
          "execution_count": 62
        }
      ]
    },
    {
      "cell_type": "code",
      "metadata": {
        "id": "u2q719fM3ESt",
        "colab_type": "code",
        "outputId": "c44216ef-af68-4d89-eaf7-4bd15f0dffc2",
        "colab": {
          "base_uri": "https://localhost:8080/",
          "height": 283
        }
      },
      "source": [
        "from sklearn.metrics import confusion_matrix, plot_confusion_matrix\n",
        "plot_confusion_matrix(arvore, X_test, y_test, cmap='Blues', values_format='.3g');\n",
        "plt.savefig('Tree_Confusion.png')"
      ],
      "execution_count": 92,
      "outputs": [
        {
          "output_type": "display_data",
          "data": {
            "image/png": "[encoded data removed]",
            "text/plain": [
              "<Figure size 432x288 with 2 Axes>"
            ]
          },
          "metadata": {
            "tags": [],
            "needs_background": "light"
          }
        }
      ]
    },
    {
      "cell_type": "markdown",
      "metadata": {
        "id": "rg6jl0dM_6BQ",
        "colab_type": "text"
      },
      "source": [
        "# Atividade Prática (REGRESSÃO LOGÍSTICA)"
      ]
    },
    {
      "cell_type": "markdown",
      "metadata": {
        "id": "ju6VfIzUAPPZ",
        "colab_type": "text"
      },
      "source": [
        "## 1. Criar conjuntos de Treino e Teste (70/30) e random_state=2020  \n",
        "## 2. Construir um **MODELO DE REGRESSÃO LOGÍSTICA** no conjunto de treino. \n",
        "## 3. Avaliar o modelo no conjunto de teste  \n",
        "> - Apresentar a Acurácia\n",
        "> - Apresentar a Matriz de Confusão"
      ]
    },
    {
      "cell_type": "code",
      "metadata": {
        "id": "2Rq6JZ7s71oA",
        "colab_type": "code",
        "colab": {}
      },
      "source": [
        "from sklearn.linear_model import LogisticRegression"
      ],
      "execution_count": 0,
      "outputs": []
    },
    {
      "cell_type": "code",
      "metadata": {
        "id": "tvueUXpl7i95",
        "colab_type": "code",
        "colab": {}
      },
      "source": [
        "# Criar atributo meta\n",
        "y = df.species\n",
        "\n",
        "# Eliminar a coluna 'Id' e criar atributos preditores\n",
        "X = df.drop(['Id', 'species'], axis=1)"
      ],
      "execution_count": 0,
      "outputs": []
    },
    {
      "cell_type": "code",
      "metadata": {
        "id": "dOi6FPxU679k",
        "colab_type": "code",
        "outputId": "28a31f14-5628-4506-d2da-579ee3af03a7",
        "colab": {
          "base_uri": "https://localhost:8080/",
          "height": 34
        }
      },
      "source": [
        "# Criar conjuntos de treino e teste com Scikit-learn. Random_state = 2020\n",
        "X_train, X_test, y_train, y_test = train_test_split(X,y, test_size=0.3, random_state = 2020)\n",
        "# Verificar dimensões de x, x_train e x_test\n",
        "print(X.shape, X_train.shape, X_test.shape)"
      ],
      "execution_count": 66,
      "outputs": [
        {
          "output_type": "stream",
          "text": [
            "(150, 4) (105, 4) (45, 4)\n"
          ],
          "name": "stdout"
        }
      ]
    },
    {
      "cell_type": "code",
      "metadata": {
        "id": "M44kyyIa7tuj",
        "colab_type": "code",
        "colab": {}
      },
      "source": [
        "# Definir técnica/modelo\n",
        "lr=LogisticRegression()"
      ],
      "execution_count": 0,
      "outputs": []
    },
    {
      "cell_type": "code",
      "metadata": {
        "id": "GePzw9hN8C5_",
        "colab_type": "code",
        "colab": {
          "base_uri": "https://localhost:8080/",
          "height": 238
        },
        "outputId": "1d0fa1a5-4ccd-445d-a2cd-1acad00f648e"
      },
      "source": [
        "# Ajustar os pontos do conjunto de treino utilizando a técnica anteriormente definida\n",
        "#X_train = X_train.reshape(-1,1)\n",
        "#X_test = X_test.reshape(-1,1)\n",
        "lr.fit(X_train,y_train)"
      ],
      "execution_count": 71,
      "outputs": [
        {
          "output_type": "stream",
          "text": [
            "/usr/local/lib/python3.6/dist-packages/sklearn/linear_model/_logistic.py:940: ConvergenceWarning: lbfgs failed to converge (status=1):\n",
            "STOP: TOTAL NO. of ITERATIONS REACHED LIMIT.\n",
            "\n",
            "Increase the number of iterations (max_iter) or scale the data as shown in:\n",
            "    https://scikit-learn.org/stable/modules/preprocessing.html\n",
            "Please also refer to the documentation for alternative solver options:\n",
            "    https://scikit-learn.org/stable/modules/linear_model.html#logistic-regression\n",
            "  extra_warning_msg=_LOGISTIC_SOLVER_CONVERGENCE_MSG)\n"
          ],
          "name": "stderr"
        },
        {
          "output_type": "execute_result",
          "data": {
            "text/plain": [
              "LogisticRegression(C=1.0, class_weight=None, dual=False, fit_intercept=True,\n",
              "                   intercept_scaling=1, l1_ratio=None, max_iter=100,\n",
              "                   multi_class='auto', n_jobs=None, penalty='l2',\n",
              "                   random_state=None, solver='lbfgs', tol=0.0001, verbose=0,\n",
              "                   warm_start=False)"
            ]
          },
          "metadata": {
            "tags": []
          },
          "execution_count": 71
        }
      ]
    },
    {
      "cell_type": "code",
      "metadata": {
        "id": "OAb185N278bT",
        "colab_type": "code",
        "colab": {}
      },
      "source": [
        "# Fazer predição no conjunto de teste, utilizando o modelo lr anteriormente ajudstado\n",
        "y_pred=lr.predict(X_test)"
      ],
      "execution_count": 0,
      "outputs": []
    },
    {
      "cell_type": "code",
      "metadata": {
        "id": "GqCbHyWb8KQT",
        "colab_type": "code",
        "outputId": "794a9b35-84db-4945-d03b-016d95636a34",
        "colab": {
          "base_uri": "https://localhost:8080/",
          "height": 68
        }
      },
      "source": [
        "# Verificar Matriz de Confusão\n",
        "confusion_matrix(y_test, y_pred)"
      ],
      "execution_count": 74,
      "outputs": [
        {
          "output_type": "execute_result",
          "data": {
            "text/plain": [
              "array([[18,  0,  0],\n",
              "       [ 0, 11,  2],\n",
              "       [ 0,  2, 12]])"
            ]
          },
          "metadata": {
            "tags": []
          },
          "execution_count": 74
        }
      ]
    },
    {
      "cell_type": "code",
      "metadata": {
        "id": "Wl9Ai8PeBa96",
        "colab_type": "code",
        "outputId": "7b495585-6527-4979-a0a0-cc0fb1a464e4",
        "colab": {
          "base_uri": "https://localhost:8080/",
          "height": 142
        }
      },
      "source": [
        "# Para rotular, vamos usar um DataFrame com os índices (linhas) e colunas\n",
        "colunas = np.unique(y_test)\n",
        "a = confusion_matrix(y_test, y_pred, labels=colunas)\n",
        "pd.DataFrame(a, index=colunas, columns=colunas)"
      ],
      "execution_count": 75,
      "outputs": [
        {
          "output_type": "execute_result",
          "data": {
            "text/html": [
              "<div>\n",
              "<style scoped>\n",
              "    .dataframe tbody tr th:only-of-type {\n",
              "        vertical-align: middle;\n",
              "    }\n",
              "\n",
              "    .dataframe tbody tr th {\n",
              "        vertical-align: top;\n",
              "    }\n",
              "\n",
              "    .dataframe thead th {\n",
              "        text-align: right;\n",
              "    }\n",
              "</style>\n",
              "<table border=\"1\" class=\"dataframe\">\n",
              "  <thead>\n",
              "    <tr style=\"text-align: right;\">\n",
              "      <th></th>\n",
              "      <th>setosa</th>\n",
              "      <th>versicolor</th>\n",
              "      <th>virginica</th>\n",
              "    </tr>\n",
              "  </thead>\n",
              "  <tbody>\n",
              "    <tr>\n",
              "      <th>setosa</th>\n",
              "      <td>18</td>\n",
              "      <td>0</td>\n",
              "      <td>0</td>\n",
              "    </tr>\n",
              "    <tr>\n",
              "      <th>versicolor</th>\n",
              "      <td>0</td>\n",
              "      <td>11</td>\n",
              "      <td>2</td>\n",
              "    </tr>\n",
              "    <tr>\n",
              "      <th>virginica</th>\n",
              "      <td>0</td>\n",
              "      <td>2</td>\n",
              "      <td>12</td>\n",
              "    </tr>\n",
              "  </tbody>\n",
              "</table>\n",
              "</div>"
            ],
            "text/plain": [
              "            setosa  versicolor  virginica\n",
              "setosa          18           0          0\n",
              "versicolor       0          11          2\n",
              "virginica        0           2         12"
            ]
          },
          "metadata": {
            "tags": []
          },
          "execution_count": 75
        }
      ]
    },
    {
      "cell_type": "code",
      "metadata": {
        "id": "A-kgoTXNBhBm",
        "colab_type": "code",
        "outputId": "65e3b4b6-33ca-4d20-c449-f465e1a44668",
        "colab": {
          "base_uri": "https://localhost:8080/",
          "height": 204
        }
      },
      "source": [
        "# Outro jeito de gerar uma Matriz de Confusão com rótulos, utilizando 'crosstab' (Pandas)\n",
        "pd.crosstab(y_test, y_pred, rownames=['Obs'], colnames=['Pred'], margins=True)"
      ],
      "execution_count": 76,
      "outputs": [
        {
          "output_type": "execute_result",
          "data": {
            "text/html": [
              "<div>\n",
              "<style scoped>\n",
              "    .dataframe tbody tr th:only-of-type {\n",
              "        vertical-align: middle;\n",
              "    }\n",
              "\n",
              "    .dataframe tbody tr th {\n",
              "        vertical-align: top;\n",
              "    }\n",
              "\n",
              "    .dataframe thead th {\n",
              "        text-align: right;\n",
              "    }\n",
              "</style>\n",
              "<table border=\"1\" class=\"dataframe\">\n",
              "  <thead>\n",
              "    <tr style=\"text-align: right;\">\n",
              "      <th>Pred</th>\n",
              "      <th>setosa</th>\n",
              "      <th>versicolor</th>\n",
              "      <th>virginica</th>\n",
              "      <th>All</th>\n",
              "    </tr>\n",
              "    <tr>\n",
              "      <th>Obs</th>\n",
              "      <th></th>\n",
              "      <th></th>\n",
              "      <th></th>\n",
              "      <th></th>\n",
              "    </tr>\n",
              "  </thead>\n",
              "  <tbody>\n",
              "    <tr>\n",
              "      <th>setosa</th>\n",
              "      <td>18</td>\n",
              "      <td>0</td>\n",
              "      <td>0</td>\n",
              "      <td>18</td>\n",
              "    </tr>\n",
              "    <tr>\n",
              "      <th>versicolor</th>\n",
              "      <td>0</td>\n",
              "      <td>11</td>\n",
              "      <td>2</td>\n",
              "      <td>13</td>\n",
              "    </tr>\n",
              "    <tr>\n",
              "      <th>virginica</th>\n",
              "      <td>0</td>\n",
              "      <td>2</td>\n",
              "      <td>12</td>\n",
              "      <td>14</td>\n",
              "    </tr>\n",
              "    <tr>\n",
              "      <th>All</th>\n",
              "      <td>18</td>\n",
              "      <td>13</td>\n",
              "      <td>14</td>\n",
              "      <td>45</td>\n",
              "    </tr>\n",
              "  </tbody>\n",
              "</table>\n",
              "</div>"
            ],
            "text/plain": [
              "Pred        setosa  versicolor  virginica  All\n",
              "Obs                                           \n",
              "setosa          18           0          0   18\n",
              "versicolor       0          11          2   13\n",
              "virginica        0           2         12   14\n",
              "All             18          13         14   45"
            ]
          },
          "metadata": {
            "tags": []
          },
          "execution_count": 76
        }
      ]
    },
    {
      "cell_type": "code",
      "metadata": {
        "id": "wTGvTnu6BlI4",
        "colab_type": "code",
        "outputId": "043008ff-415a-429d-ffce-b3a1930b4ff6",
        "colab": {
          "base_uri": "https://localhost:8080/",
          "height": 34
        }
      },
      "source": [
        "# Verificar a acurácia do modelo (score)\n",
        "lr_score=lr.score(X_test, y_test)\n",
        "lr_score"
      ],
      "execution_count": 77,
      "outputs": [
        {
          "output_type": "execute_result",
          "data": {
            "text/plain": [
              "0.9111111111111111"
            ]
          },
          "metadata": {
            "tags": []
          },
          "execution_count": 77
        }
      ]
    },
    {
      "cell_type": "code",
      "metadata": {
        "id": "1-JOkUdZBpU1",
        "colab_type": "code",
        "outputId": "8a94fd1c-6088-4fdf-ac25-e592b5a4e79d",
        "colab": {
          "base_uri": "https://localhost:8080/",
          "height": 782
        }
      },
      "source": [
        "# Verificar a probabilidade associada a cada registro\n",
        "lr.predict_proba(X_test)"
      ],
      "execution_count": 78,
      "outputs": [
        {
          "output_type": "execute_result",
          "data": {
            "text/plain": [
              "array([[1.46173837e-05, 2.65163684e-02, 9.73469014e-01],\n",
              "       [9.64386656e-01, 3.56131629e-02, 1.81146533e-07],\n",
              "       [2.25358197e-02, 8.67061875e-01, 1.10402305e-01],\n",
              "       [4.09533922e-03, 7.89592944e-01, 2.06311717e-01],\n",
              "       [8.83017275e-03, 8.00729316e-01, 1.90440512e-01],\n",
              "       [9.03356715e-04, 6.77333886e-01, 3.21762758e-01],\n",
              "       [2.18833587e-04, 2.00667715e-01, 7.99113451e-01],\n",
              "       [1.08551739e-01, 8.89142169e-01, 2.30609149e-03],\n",
              "       [9.37912738e-01, 6.20854775e-02, 1.78420716e-06],\n",
              "       [9.55023434e-01, 4.49759411e-02, 6.24527248e-07],\n",
              "       [1.53844039e-04, 1.45608319e-01, 8.54237837e-01],\n",
              "       [1.01438438e-02, 7.22669263e-01, 2.67186894e-01],\n",
              "       [9.68741731e-01, 3.12580676e-02, 2.01017072e-07],\n",
              "       [2.10019781e-03, 4.94578728e-01, 5.03321074e-01],\n",
              "       [7.15073529e-04, 2.69579696e-01, 7.29705231e-01],\n",
              "       [9.80088100e-01, 1.99117488e-02, 1.51632137e-07],\n",
              "       [1.79152353e-02, 9.54086051e-01, 2.79987132e-02],\n",
              "       [9.87334223e-03, 7.75380455e-01, 2.14746202e-01],\n",
              "       [4.13364285e-05, 6.16001622e-02, 9.38358501e-01],\n",
              "       [9.24589400e-01, 7.54103403e-02, 2.59680079e-07],\n",
              "       [9.76566315e-01, 2.34335734e-02, 1.11171670e-07],\n",
              "       [2.22726319e-04, 3.40913129e-01, 6.58864144e-01],\n",
              "       [4.09771252e-03, 4.13833338e-01, 5.82068949e-01],\n",
              "       [9.65466621e-01, 3.45330016e-02, 3.77575391e-07],\n",
              "       [3.21757240e-04, 1.64845069e-01, 8.34833174e-01],\n",
              "       [3.72760460e-02, 9.08376829e-01, 5.43471248e-02],\n",
              "       [1.59929794e-02, 6.79949858e-01, 3.04057162e-01],\n",
              "       [1.11075398e-03, 4.30700371e-01, 5.68188875e-01],\n",
              "       [9.58154525e-01, 4.18451901e-02, 2.85395882e-07],\n",
              "       [9.64486556e-01, 3.55121983e-02, 1.24557092e-06],\n",
              "       [2.79088286e-07, 6.34105285e-03, 9.93658668e-01],\n",
              "       [9.81037533e-01, 1.89623265e-02, 1.40785572e-07],\n",
              "       [9.67143584e-01, 3.28561405e-02, 2.75509533e-07],\n",
              "       [9.74885737e-01, 2.51140306e-02, 2.32800470e-07],\n",
              "       [1.24075719e-04, 5.43340162e-02, 9.45541908e-01],\n",
              "       [9.52967967e-01, 4.70317886e-02, 2.44813343e-07],\n",
              "       [9.68876051e-01, 3.11237574e-02, 1.92090411e-07],\n",
              "       [3.97500061e-02, 9.53894501e-01, 6.35549269e-03],\n",
              "       [9.75938769e-01, 2.40611448e-02, 8.62859013e-08],\n",
              "       [7.39890916e-04, 2.85801152e-01, 7.13458957e-01],\n",
              "       [9.67002040e-01, 3.29976718e-02, 2.88310550e-07],\n",
              "       [1.10221230e-05, 1.22334559e-02, 9.87755522e-01],\n",
              "       [2.84900100e-02, 9.19648816e-01, 5.18611741e-02],\n",
              "       [9.53447340e-01, 4.65516681e-02, 9.92259375e-07],\n",
              "       [1.32063618e-02, 9.11954047e-01, 7.48395912e-02]])"
            ]
          },
          "metadata": {
            "tags": []
          },
          "execution_count": 78
        }
      ]
    },
    {
      "cell_type": "code",
      "metadata": {
        "id": "FBFP4_OkBuQQ",
        "colab_type": "code",
        "outputId": "6c9fe62b-4c7d-4043-d480-d63291a7305d",
        "colab": {
          "base_uri": "https://localhost:8080/",
          "height": 283
        }
      },
      "source": [
        "from sklearn.metrics import confusion_matrix, plot_confusion_matrix\n",
        "plot_confusion_matrix(lr, X_test, y_test, cmap='Blues', values_format='.3g');\n",
        "plt.savefig('Logistic_Confusion.png')"
      ],
      "execution_count": 79,
      "outputs": [
        {
          "output_type": "display_data",
          "data": {
            "image/png": "[encoded data removed]",
            "text/plain": [
              "<Figure size 432x288 with 2 Axes>"
            ]
          },
          "metadata": {
            "tags": [],
            "needs_background": "light"
          }
        }
      ]
    },
    {
      "cell_type": "markdown",
      "metadata": {
        "colab_type": "text",
        "id": "RvFVa6hHAvus"
      },
      "source": [
        "# Atividade Prática (KNN)"
      ]
    },
    {
      "cell_type": "markdown",
      "metadata": {
        "id": "_GPt8yBoAvXN",
        "colab_type": "text"
      },
      "source": [
        "## 1. Criar conjuntos de Treino e Teste (70/30) e random_state=2020  \n",
        "## 2. Classificar usando **KNN** (Usar Cross-Validation, com 10 folds) no conjunto de treino variando K:  \n",
        "## 3. Selecionar o K ótimo\n",
        "## 4. Avaliar o modelo com K ótimo no conjunto de teste  \n",
        "> - Apresentar a Acurácia\n",
        "> - Apresentar a Matriz de Confusão\n"
      ]
    },
    {
      "cell_type": "code",
      "metadata": {
        "id": "uKeamIf4Gn46",
        "colab_type": "code",
        "colab": {}
      },
      "source": [
        "# Importar bibliotecas específicas do sklearn\n",
        "from sklearn.neighbors import KNeighborsClassifier\n",
        "from sklearn.metrics import mean_squared_error\n",
        "from sklearn.model_selection import cross_val_score \n",
        "from sklearn import metrics"
      ],
      "execution_count": 0,
      "outputs": []
    },
    {
      "cell_type": "code",
      "metadata": {
        "id": "P7YRNs0tGwkd",
        "colab_type": "code",
        "colab": {}
      },
      "source": [
        "# Criar atributo meta\n",
        "y = df.species\n",
        "\n",
        "# Eliminar a coluna 'Id' e criar atributos preditores\n",
        "X = df.drop(['Id', 'species'], axis=1)"
      ],
      "execution_count": 0,
      "outputs": []
    },
    {
      "cell_type": "code",
      "metadata": {
        "id": "GU_TcsCcGze2",
        "colab_type": "code",
        "colab": {}
      },
      "source": [
        "# Importar train_test_split de Scikit-learn\n",
        "from sklearn.model_selection import train_test_split"
      ],
      "execution_count": 0,
      "outputs": []
    },
    {
      "cell_type": "code",
      "metadata": {
        "id": "ActXUBtUG2ds",
        "colab_type": "code",
        "outputId": "5801894c-431f-4526-b8a4-5f00d2e59c99",
        "colab": {
          "base_uri": "https://localhost:8080/",
          "height": 34
        }
      },
      "source": [
        "# Criar conjuntos de treino e teste com Scikit-learn. Random_state = 2020\n",
        "X_train, X_test, y_train, y_test = train_test_split(X,y, test_size=0.3, random_state = 2020)\n",
        "# Verificar dimensões de X, X_train e X_test\n",
        "print(X.shape, X_train.shape, X_test.shape)"
      ],
      "execution_count": 83,
      "outputs": [
        {
          "output_type": "stream",
          "text": [
            "(150, 4) (105, 4) (45, 4)\n"
          ],
          "name": "stdout"
        }
      ]
    },
    {
      "cell_type": "code",
      "metadata": {
        "id": "l8hjtKMaG8Y8",
        "colab_type": "code",
        "colab": {}
      },
      "source": [
        "# Encontrar o KNN ótimo no conjunto de treino, usando Validação Cruzada"
      ],
      "execution_count": 0,
      "outputs": []
    },
    {
      "cell_type": "code",
      "metadata": {
        "id": "vok8Kv1CG9vs",
        "colab_type": "code",
        "colab": {}
      },
      "source": [
        "# Criar uma lista com valores ímpares (1 a 19) para K vizinhos mais próximos (KNN)\n",
        "kvizinhos = list(range(1,20,2))"
      ],
      "execution_count": 0,
      "outputs": []
    },
    {
      "cell_type": "code",
      "metadata": {
        "id": "ghQilQzxHMM4",
        "colab_type": "code",
        "colab": {}
      },
      "source": [
        "# Criar uma lista vazia com os 'scores' para cada iteração da Validação Cruzada\n",
        "# A Validação Cruzada será feita com 10 subconjuntos (10-fold Cross Validation)\n",
        "cv_scores = [ ]"
      ],
      "execution_count": 0,
      "outputs": []
    },
    {
      "cell_type": "code",
      "metadata": {
        "id": "uOyJjLBXHOmT",
        "colab_type": "code",
        "colab": {}
      },
      "source": [
        "# Realizar a Validação Cruzada com 10 subconjuntos (ou 10 pastas)\n",
        "\n",
        "for K in kvizinhos:\n",
        "  knn = KNeighborsClassifier(n_neighbors=K)\n",
        "  scores = cross_val_score(knn,X_train,y_train,\n",
        "                           cv=10,\n",
        "                           scoring='accuracy')\n",
        "  cv_scores.append(scores.mean())"
      ],
      "execution_count": 0,
      "outputs": []
    },
    {
      "cell_type": "code",
      "metadata": {
        "id": "5vv8U1ceH7y7",
        "colab_type": "code",
        "outputId": "9533762c-b5b7-4c9d-899d-4048309c860d",
        "colab": {
          "base_uri": "https://localhost:8080/",
          "height": 34
        }
      },
      "source": [
        "# Melhor acurácia\n",
        "k_otimo = kvizinhos[cv_scores.index(max(cv_scores))]\n",
        "k_otimo"
      ],
      "execution_count": 87,
      "outputs": [
        {
          "output_type": "execute_result",
          "data": {
            "text/plain": [
              "11"
            ]
          },
          "metadata": {
            "tags": []
          },
          "execution_count": 87
        }
      ]
    },
    {
      "cell_type": "code",
      "metadata": {
        "id": "0YjZxvoGII8b",
        "colab_type": "code",
        "colab": {}
      },
      "source": [
        "#Definir o classificador usando KNeighborsClassifier do sklearn\n",
        "knn11=KNeighborsClassifier(n_neighbors=k_otimo, metric='euclidean')"
      ],
      "execution_count": 0,
      "outputs": []
    },
    {
      "cell_type": "code",
      "metadata": {
        "id": "XszigT02I6QR",
        "colab_type": "code",
        "outputId": "de5c6203-f7c1-48d0-ae8c-dd4657cd5a5d",
        "colab": {
          "base_uri": "https://localhost:8080/",
          "height": 68
        }
      },
      "source": [
        "#Construir o modelo com o classificador definido anteriormente\n",
        "knn11.fit(X_train,y_train)"
      ],
      "execution_count": 89,
      "outputs": [
        {
          "output_type": "execute_result",
          "data": {
            "text/plain": [
              "KNeighborsClassifier(algorithm='auto', leaf_size=30, metric='euclidean',\n",
              "                     metric_params=None, n_jobs=None, n_neighbors=11, p=2,\n",
              "                     weights='uniform')"
            ]
          },
          "metadata": {
            "tags": []
          },
          "execution_count": 89
        }
      ]
    },
    {
      "cell_type": "code",
      "metadata": {
        "id": "cTHjdu-uJMPd",
        "colab_type": "code",
        "outputId": "0d6d1cdc-872e-4d67-9579-ced4f03f261a",
        "colab": {
          "base_uri": "https://localhost:8080/",
          "height": 34
        }
      },
      "source": [
        "# Verificar a acurácia do modelo (score)\n",
        "knn_score=knn11.score(X_test, y_test)\n",
        "knn_score"
      ],
      "execution_count": 90,
      "outputs": [
        {
          "output_type": "execute_result",
          "data": {
            "text/plain": [
              "0.9333333333333333"
            ]
          },
          "metadata": {
            "tags": []
          },
          "execution_count": 90
        }
      ]
    },
    {
      "cell_type": "code",
      "metadata": {
        "id": "yOXxDvv8JzP7",
        "colab_type": "code",
        "outputId": "deecaaa4-ee57-445c-918f-71a6766b39b3",
        "colab": {
          "base_uri": "https://localhost:8080/",
          "height": 283
        }
      },
      "source": [
        "from sklearn.metrics import confusion_matrix, plot_confusion_matrix\n",
        "plot_confusion_matrix(knn11, X_test, y_test, cmap='Blues', values_format='.3g');\n",
        "plt.savefig('KNN_Confusion.png')"
      ],
      "execution_count": 91,
      "outputs": [
        {
          "output_type": "display_data",
          "data": {
            "image/png": "[encoded data removed]",
            "text/plain": [
              "<Figure size 432x288 with 2 Axes>"
            ]
          },
          "metadata": {
            "tags": [],
            "needs_background": "light"
          }
        }
      ]
    },
    {
      "cell_type": "markdown",
      "metadata": {
        "id": "Fu0ykhofBIsY",
        "colab_type": "text"
      },
      "source": [
        "# FAZER UMA DISCUSSÃO CRÍTICA ACERCA DOS RESULTADOS OBTIDOS COM OS MODELOS\n",
        "## Construa tabelas, gráficos, etc. para subsidiar suas conclusões"
      ]
    },
    {
      "cell_type": "code",
      "metadata": {
        "id": "NV_urrI2Iko_",
        "colab_type": "code",
        "outputId": "0f92b5f7-3ab4-46f1-f614-2a27356cdc0f",
        "colab": {
          "base_uri": "https://localhost:8080/",
          "height": 606
        }
      },
      "source": [
        "# Plot the relation of each feature with each species\n",
        "\n",
        "plt.figure(figsize=(15,10))\n",
        "\n",
        "plt.xlabel('Features')\n",
        "plt.ylabel('Species')\n",
        "\n",
        "pltX = df.loc[:, 'sepal.length']\n",
        "pltY = df.loc[:,'species']\n",
        "plt.scatter(pltX, pltY, color='blue', label='sepal_length')\n",
        "\n",
        "pltX = df.loc[:, 'sepal.width']\n",
        "pltY = df.loc[:,'species']\n",
        "plt.scatter(pltX, pltY, color='yellow', label='sepal_width')\n",
        "\n",
        "pltX = df.loc[:, 'petal.length']\n",
        "pltY = df.loc[:,'species']\n",
        "plt.scatter(pltX, pltY, color='red', label='petal_length')\n",
        "\n",
        "pltX = df.loc[:, 'petal.width']\n",
        "pltY = df.loc[:,'species']\n",
        "plt.scatter(pltX, pltY, color='black', label='petal_width')\n",
        "\n",
        "plt.legend(loc=4, prop={'size':15})\n",
        "#plt.show()\n",
        "\n",
        "plt.savefig('Atributos.png')"
      ],
      "execution_count": 93,
      "outputs": [
        {
          "output_type": "display_data",
          "data": {
            "image/png": "[encoded data removed]",
            "text/plain": [
              "<Figure size 1080x720 with 1 Axes>"
            ]
          },
          "metadata": {
            "tags": [],
            "needs_background": "light"
          }
        }
      ]
    },
    {
      "cell_type": "markdown",
      "metadata": {
        "id": "DhL71n5gOpMC",
        "colab_type": "text"
      },
      "source": [
        "O atributo petal_width e petal_length apresentam baixa entropia para a espécie setosa, possibilitando assim a sua separação do restante das espécies.\n",
        "Dessa forma, um modelo poderia obter acurácia de 100% ao classificar as flores em \"setosa\" e \"não-setosa\" pelos atributos petal_width e petal_length."
      ]
    },
    {
      "cell_type": "code",
      "metadata": {
        "id": "-hKMyjEHJzBX",
        "colab_type": "code",
        "outputId": "ce0260ca-2c44-4a0d-af26-1b4c700dcbf0",
        "colab": {
          "base_uri": "https://localhost:8080/",
          "height": 142
        }
      },
      "source": [
        "acuracia = {'Modelos': ['Tree', 'Logistic', 'KNN'], 'Acurácia': [arvore_score, lr_score, knn_score]}\n",
        "dacuracia=pd.DataFrame(acuracia)\n",
        "dacuracia"
      ],
      "execution_count": 94,
      "outputs": [
        {
          "output_type": "execute_result",
          "data": {
            "text/html": [
              "<div>\n",
              "<style scoped>\n",
              "    .dataframe tbody tr th:only-of-type {\n",
              "        vertical-align: middle;\n",
              "    }\n",
              "\n",
              "    .dataframe tbody tr th {\n",
              "        vertical-align: top;\n",
              "    }\n",
              "\n",
              "    .dataframe thead th {\n",
              "        text-align: right;\n",
              "    }\n",
              "</style>\n",
              "<table border=\"1\" class=\"dataframe\">\n",
              "  <thead>\n",
              "    <tr style=\"text-align: right;\">\n",
              "      <th></th>\n",
              "      <th>Modelos</th>\n",
              "      <th>Acurácia</th>\n",
              "    </tr>\n",
              "  </thead>\n",
              "  <tbody>\n",
              "    <tr>\n",
              "      <th>0</th>\n",
              "      <td>Tree</td>\n",
              "      <td>0.911111</td>\n",
              "    </tr>\n",
              "    <tr>\n",
              "      <th>1</th>\n",
              "      <td>Logistic</td>\n",
              "      <td>0.911111</td>\n",
              "    </tr>\n",
              "    <tr>\n",
              "      <th>2</th>\n",
              "      <td>KNN</td>\n",
              "      <td>0.933333</td>\n",
              "    </tr>\n",
              "  </tbody>\n",
              "</table>\n",
              "</div>"
            ],
            "text/plain": [
              "    Modelos  Acurácia\n",
              "0      Tree  0.911111\n",
              "1  Logistic  0.911111\n",
              "2       KNN  0.933333"
            ]
          },
          "metadata": {
            "tags": []
          },
          "execution_count": 94
        }
      ]
    },
    {
      "cell_type": "code",
      "metadata": {
        "id": "9PLN5ardMJmE",
        "colab_type": "code",
        "outputId": "f676a1b7-9666-472d-a70c-fab229654f7b",
        "colab": {
          "base_uri": "https://localhost:8080/",
          "height": 513
        }
      },
      "source": [
        "import matplotlib.pyplot as plt\n",
        "\n",
        "plt.figure(figsize=(10, 8));\n",
        "\n",
        "plt.bar(dacuracia['Modelos'], dacuracia['Acurácia']);\n",
        "\n",
        "plt.title('Modelos X Acurácia')\n",
        "plt.xlabel('Modelos')\n",
        "plt.ylabel('Acurácia')\n",
        "plt.ylim(0.85, 0.95);\n",
        "\n",
        "plt.savefig('Acuracia.png')"
      ],
      "execution_count": 95,
      "outputs": [
        {
          "output_type": "display_data",
          "data": {
            "image/png": "[encoded data removed]",
            "text/plain": [
              "<Figure size 720x576 with 1 Axes>"
            ]
          },
          "metadata": {
            "tags": [],
            "needs_background": "light"
          }
        }
      ]
    },
    {
      "cell_type": "code",
      "metadata": {
        "id": "FGRbnwiTOdaf",
        "colab_type": "code",
        "outputId": "fad349f0-a2de-4aba-8763-eca39ca7f338",
        "colab": {
          "base_uri": "https://localhost:8080/",
          "height": 369
        }
      },
      "source": [
        "sns.relplot(x='petal.length', y='petal.width', hue='species', style='species', data=df);"
      ],
      "execution_count": 96,
      "outputs": [
        {
          "output_type": "display_data",
          "data": {
            "image/png": "[encoded data removed]",
            "text/plain": [
              "<Figure size 444.75x360 with 1 Axes>"
            ]
          },
          "metadata": {
            "tags": [],
            "needs_background": "light"
          }
        }
      ]
    },
    {
      "cell_type": "code",
      "metadata": {
        "id": "1WaZGXY6Pe6D",
        "colab_type": "code",
        "outputId": "c5273bc7-d2ae-4b3a-9261-d23c65d990d3",
        "colab": {
          "base_uri": "https://localhost:8080/",
          "height": 369
        }
      },
      "source": [
        "sns.catplot(x='species', y='petal.length', data=df);"
      ],
      "execution_count": 97,
      "outputs": [
        {
          "output_type": "display_data",
          "data": {
            "image/png": "[encoded data removed]",
            "text/plain": [
              "<Figure size 360x360 with 1 Axes>"
            ]
          },
          "metadata": {
            "tags": [],
            "needs_background": "light"
          }
        }
      ]
    },
    {
      "cell_type": "code",
      "metadata": {
        "id": "3xwoWvh3PhSL",
        "colab_type": "code",
        "outputId": "c065d49e-5346-4f41-a1ea-946a46ff5438",
        "colab": {
          "base_uri": "https://localhost:8080/",
          "height": 386
        }
      },
      "source": [
        "sns.catplot(x='species', y='petal.width', data=df)"
      ],
      "execution_count": 98,
      "outputs": [
        {
          "output_type": "execute_result",
          "data": {
            "text/plain": [
              "<seaborn.axisgrid.FacetGrid at 0x7fd2951b1eb8>"
            ]
          },
          "metadata": {
            "tags": []
          },
          "execution_count": 98
        },
        {
          "output_type": "display_data",
          "data": {
            "image/png": "[encoded data removed]",
            "text/plain": [
              "<Figure size 360x360 with 1 Axes>"
            ]
          },
          "metadata": {
            "tags": [],
            "needs_background": "light"
          }
        }
      ]
    },
    {
      "cell_type": "code",
      "metadata": {
        "id": "5j9ZcfjoPzm9",
        "colab_type": "code",
        "outputId": "df0d8d51-164f-4408-ea34-7328b2e1a12b",
        "colab": {
          "base_uri": "https://localhost:8080/",
          "height": 369
        }
      },
      "source": [
        "sns.catplot(x='species', y='petal.length', kind='box', data=df);"
      ],
      "execution_count": 99,
      "outputs": [
        {
          "output_type": "display_data",
          "data": {
            "image/png": "[encoded data removed]",
            "text/plain": [
              "<Figure size 360x360 with 1 Axes>"
            ]
          },
          "metadata": {
            "tags": [],
            "needs_background": "light"
          }
        }
      ]
    },
    {
      "cell_type": "code",
      "metadata": {
        "id": "LtUiDb2SP3vB",
        "colab_type": "code",
        "outputId": "2115d294-e0f8-46cd-a9fb-1513d8012b11",
        "colab": {
          "base_uri": "https://localhost:8080/",
          "height": 369
        }
      },
      "source": [
        "sns.catplot(x='species', y='petal.width', kind='box', data=df);"
      ],
      "execution_count": 100,
      "outputs": [
        {
          "output_type": "display_data",
          "data": {
            "image/png": "[encoded data removed]",
            "text/plain": [
              "<Figure size 360x360 with 1 Axes>"
            ]
          },
          "metadata": {
            "tags": [],
            "needs_background": "light"
          }
        }
      ]
    }
  ]
}